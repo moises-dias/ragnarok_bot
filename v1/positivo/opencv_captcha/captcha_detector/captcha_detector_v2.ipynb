{
 "cells": [
  {
   "cell_type": "code",
   "execution_count": 3,
   "id": "common-wallace",
   "metadata": {},
   "outputs": [],
   "source": [
    "import cv2 as cv\n",
    "import numpy as np\n",
    "import matplotlib.pyplot as plt\n",
    "from PIL import Image"
   ]
  },
  {
   "cell_type": "code",
   "execution_count": 2,
   "id": "flush-cholesterol",
   "metadata": {},
   "outputs": [],
   "source": [
    "# first_msg_x_y = [135:190, 210:420]\n",
    "# second_msg_x_y = [323:338, 400:479]\n",
    "# captcha_numbers_x_y = [172:185, 237:261]"
   ]
  },
  {
   "cell_type": "markdown",
   "id": "seasonal-dryer",
   "metadata": {},
   "source": [
    "## 1 - detectar se entrei no processo do captcha "
   ]
  },
  {
   "cell_type": "code",
   "execution_count": 4,
   "id": "gorgeous-buyer",
   "metadata": {},
   "outputs": [],
   "source": [
    "def checkMsgOnScreen(game_image, needle_image, threshold=0.9):\n",
    "    result = cv.matchTemplate(game_image, needle_image, cv.TM_CCOEFF_NORMED)\n",
    "    return np.any(result >= threshold)"
   ]
  },
  {
   "cell_type": "code",
   "execution_count": 5,
   "id": "professional-alarm",
   "metadata": {},
   "outputs": [],
   "source": [
    "game_first_msg = cv.imread('img_31.jpeg', cv.IMREAD_UNCHANGED)[135:190, 210:420] # Veja o número que vai aparecer ...\n",
    "game_second_msg = cv.imread('img_37.jpeg', cv.IMREAD_UNCHANGED)[323:338, 400:479] # Input number"
   ]
  },
  {
   "cell_type": "code",
   "execution_count": 6,
   "id": "manual-above",
   "metadata": {},
   "outputs": [
    {
     "data": {
      "text/plain": [
       "True"
      ]
     },
     "execution_count": 6,
     "metadata": {},
     "output_type": "execute_result"
    }
   ],
   "source": [
    "img_first_msg = cv.imread('msg1.jpeg', cv.IMREAD_UNCHANGED)\n",
    "checkMsgOnScreen(game_first_msg, img_first_msg)"
   ]
  },
  {
   "cell_type": "code",
   "execution_count": 7,
   "id": "general-religious",
   "metadata": {},
   "outputs": [
    {
     "data": {
      "text/plain": [
       "True"
      ]
     },
     "execution_count": 7,
     "metadata": {},
     "output_type": "execute_result"
    }
   ],
   "source": [
    "img_second_msg = cv.imread('msg2.jpeg', cv.IMREAD_UNCHANGED)\n",
    "checkMsgOnScreen(game_second_msg, img_second_msg)"
   ]
  },
  {
   "cell_type": "markdown",
   "id": "military-heather",
   "metadata": {},
   "source": [
    "## 2 - detectar os numeros do captcha"
   ]
  },
  {
   "cell_type": "code",
   "execution_count": 8,
   "id": "macro-toddler",
   "metadata": {},
   "outputs": [],
   "source": [
    "def findNumbers(game_image, threshold=0.9):\n",
    "    matches = {}\n",
    "    for i in range(10):\n",
    "        number_img = cv.imread(f'{i}.jpeg', cv.IMREAD_UNCHANGED)\n",
    "        result = cv.matchTemplate(game_image, number_img, cv.TM_CCOEFF_NORMED)\n",
    "        locations = np.where(result >= threshold)\n",
    "        locations = list(zip(*locations[::-1]))\n",
    "        for loc in locations: \n",
    "            matches[loc[0]] = i\n",
    "    result = []\n",
    "    for key in sorted(matches):\n",
    "        result.append(matches[key])\n",
    "    return result"
   ]
  },
  {
   "cell_type": "code",
   "execution_count": 9,
   "id": "nonprofit-thursday",
   "metadata": {},
   "outputs": [
    {
     "ename": "error",
     "evalue": "OpenCV(4.5.3) C:\\Users\\runneradmin\\AppData\\Local\\Temp\\pip-req-build-sn_xpupm\\opencv\\modules\\imgproc\\src\\templmatch.cpp:1164: error: (-215:Assertion failed) (depth == CV_8U || depth == CV_32F) && type == _templ.type() && _img.dims() <= 2 in function 'cv::matchTemplate'\n",
     "output_type": "error",
     "traceback": [
      "\u001b[1;31m---------------------------------------------------------------------------\u001b[0m",
      "\u001b[1;31merror\u001b[0m                                     Traceback (most recent call last)",
      "\u001b[1;32m~\\AppData\\Local\\Temp/ipykernel_10264/2129819381.py\u001b[0m in \u001b[0;36m<module>\u001b[1;34m\u001b[0m\n\u001b[0;32m      1\u001b[0m \u001b[0mgame_img\u001b[0m \u001b[1;33m=\u001b[0m \u001b[0mcv\u001b[0m\u001b[1;33m.\u001b[0m\u001b[0mimread\u001b[0m\u001b[1;33m(\u001b[0m\u001b[1;34m'img_37.jpeg'\u001b[0m\u001b[1;33m,\u001b[0m \u001b[0mcv\u001b[0m\u001b[1;33m.\u001b[0m\u001b[0mIMREAD_UNCHANGED\u001b[0m\u001b[1;33m)\u001b[0m\u001b[1;33m[\u001b[0m\u001b[1;36m172\u001b[0m\u001b[1;33m:\u001b[0m\u001b[1;36m185\u001b[0m\u001b[1;33m,\u001b[0m \u001b[1;36m237\u001b[0m\u001b[1;33m:\u001b[0m\u001b[1;36m261\u001b[0m\u001b[1;33m]\u001b[0m\u001b[1;33m\u001b[0m\u001b[1;33m\u001b[0m\u001b[0m\n\u001b[1;32m----> 2\u001b[1;33m \u001b[0mfindNumbers\u001b[0m\u001b[1;33m(\u001b[0m\u001b[0mgame_img\u001b[0m\u001b[1;33m)\u001b[0m\u001b[1;33m\u001b[0m\u001b[1;33m\u001b[0m\u001b[0m\n\u001b[0m",
      "\u001b[1;32m~\\AppData\\Local\\Temp/ipykernel_10264/3515845957.py\u001b[0m in \u001b[0;36mfindNumbers\u001b[1;34m(game_image, threshold)\u001b[0m\n\u001b[0;32m      3\u001b[0m     \u001b[1;32mfor\u001b[0m \u001b[0mi\u001b[0m \u001b[1;32min\u001b[0m \u001b[0mrange\u001b[0m\u001b[1;33m(\u001b[0m\u001b[1;36m10\u001b[0m\u001b[1;33m)\u001b[0m\u001b[1;33m:\u001b[0m\u001b[1;33m\u001b[0m\u001b[1;33m\u001b[0m\u001b[0m\n\u001b[0;32m      4\u001b[0m         \u001b[0mnumber_img\u001b[0m \u001b[1;33m=\u001b[0m \u001b[0mcv\u001b[0m\u001b[1;33m.\u001b[0m\u001b[0mimread\u001b[0m\u001b[1;33m(\u001b[0m\u001b[1;34mf'{i}.jpeg'\u001b[0m\u001b[1;33m,\u001b[0m \u001b[0mcv\u001b[0m\u001b[1;33m.\u001b[0m\u001b[0mIMREAD_UNCHANGED\u001b[0m\u001b[1;33m)\u001b[0m\u001b[1;33m\u001b[0m\u001b[1;33m\u001b[0m\u001b[0m\n\u001b[1;32m----> 5\u001b[1;33m         \u001b[0mresult\u001b[0m \u001b[1;33m=\u001b[0m \u001b[0mcv\u001b[0m\u001b[1;33m.\u001b[0m\u001b[0mmatchTemplate\u001b[0m\u001b[1;33m(\u001b[0m\u001b[0mgame_image\u001b[0m\u001b[1;33m,\u001b[0m \u001b[0mnumber_img\u001b[0m\u001b[1;33m,\u001b[0m \u001b[0mcv\u001b[0m\u001b[1;33m.\u001b[0m\u001b[0mTM_CCOEFF_NORMED\u001b[0m\u001b[1;33m)\u001b[0m\u001b[1;33m\u001b[0m\u001b[1;33m\u001b[0m\u001b[0m\n\u001b[0m\u001b[0;32m      6\u001b[0m         \u001b[0mlocations\u001b[0m \u001b[1;33m=\u001b[0m \u001b[0mnp\u001b[0m\u001b[1;33m.\u001b[0m\u001b[0mwhere\u001b[0m\u001b[1;33m(\u001b[0m\u001b[0mresult\u001b[0m \u001b[1;33m>=\u001b[0m \u001b[0mthreshold\u001b[0m\u001b[1;33m)\u001b[0m\u001b[1;33m\u001b[0m\u001b[1;33m\u001b[0m\u001b[0m\n\u001b[0;32m      7\u001b[0m         \u001b[0mlocations\u001b[0m \u001b[1;33m=\u001b[0m \u001b[0mlist\u001b[0m\u001b[1;33m(\u001b[0m\u001b[0mzip\u001b[0m\u001b[1;33m(\u001b[0m\u001b[1;33m*\u001b[0m\u001b[0mlocations\u001b[0m\u001b[1;33m[\u001b[0m\u001b[1;33m:\u001b[0m\u001b[1;33m:\u001b[0m\u001b[1;33m-\u001b[0m\u001b[1;36m1\u001b[0m\u001b[1;33m]\u001b[0m\u001b[1;33m)\u001b[0m\u001b[1;33m)\u001b[0m\u001b[1;33m\u001b[0m\u001b[1;33m\u001b[0m\u001b[0m\n",
      "\u001b[1;31merror\u001b[0m: OpenCV(4.5.3) C:\\Users\\runneradmin\\AppData\\Local\\Temp\\pip-req-build-sn_xpupm\\opencv\\modules\\imgproc\\src\\templmatch.cpp:1164: error: (-215:Assertion failed) (depth == CV_8U || depth == CV_32F) && type == _templ.type() && _img.dims() <= 2 in function 'cv::matchTemplate'\n"
     ]
    }
   ],
   "source": [
    "game_img = cv.imread('img_37.jpeg', cv.IMREAD_UNCHANGED)[172:185, 237:261]\n",
    "findNumbers(game_img)"
   ]
  },
  {
   "cell_type": "code",
   "execution_count": null,
   "id": "polish-found",
   "metadata": {},
   "outputs": [],
   "source": []
  }
 ],
 "metadata": {
  "kernelspec": {
   "display_name": "Python 3 (ipykernel)",
   "language": "python",
   "name": "python3"
  },
  "language_info": {
   "codemirror_mode": {
    "name": "ipython",
    "version": 3
   },
   "file_extension": ".py",
   "mimetype": "text/x-python",
   "name": "python",
   "nbconvert_exporter": "python",
   "pygments_lexer": "ipython3",
   "version": "3.9.7"
  }
 },
 "nbformat": 4,
 "nbformat_minor": 5
}
