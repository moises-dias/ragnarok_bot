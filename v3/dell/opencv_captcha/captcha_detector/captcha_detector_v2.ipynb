{
 "cells": [
  {
   "cell_type": "code",
   "execution_count": 1,
   "id": "common-wallace",
   "metadata": {},
   "outputs": [],
   "source": [
    "import cv2 as cv\n",
    "import numpy as np\n",
    "import matplotlib.pyplot as plt\n",
    "from PIL import Image"
   ]
  },
  {
   "cell_type": "code",
   "execution_count": 2,
   "id": "flush-cholesterol",
   "metadata": {},
   "outputs": [],
   "source": [
    "# first_msg_x_y = [135:190, 210:420]\n",
    "# second_msg_x_y = [323:338, 400:479]\n",
    "# captcha_numbers_x_y = [172:185, 237:261]"
   ]
  },
  {
   "cell_type": "markdown",
   "id": "seasonal-dryer",
   "metadata": {},
   "source": [
    "## 1 - detectar se entrei no processo do captcha "
   ]
  },
  {
   "cell_type": "code",
   "execution_count": 10,
   "id": "gorgeous-buyer",
   "metadata": {},
   "outputs": [],
   "source": [
    "def checkMsgOnScreen(game_image, needle_image, threshold=0.9):\n",
    "    result = cv.matchTemplate(game_image, needle_image, cv.TM_CCOEFF_NORMED)\n",
    "    return np.any(result >= threshold)"
   ]
  },
  {
   "cell_type": "code",
   "execution_count": 12,
   "id": "professional-alarm",
   "metadata": {},
   "outputs": [],
   "source": [
    "game_first_msg = cv.imread('img_31.jpeg', cv.IMREAD_UNCHANGED)[135:190, 210:420] # Veja o número que vai aparecer ...\n",
    "game_second_msg = cv.imread('img_37.jpeg', cv.IMREAD_UNCHANGED)[323:338, 400:479] # Input number"
   ]
  },
  {
   "cell_type": "code",
   "execution_count": 13,
   "id": "manual-above",
   "metadata": {},
   "outputs": [
    {
     "data": {
      "text/plain": [
       "True"
      ]
     },
     "execution_count": 13,
     "metadata": {},
     "output_type": "execute_result"
    }
   ],
   "source": [
    "img_first_msg = cv.imread('msg1.jpeg', cv.IMREAD_UNCHANGED)\n",
    "checkMsgOnScreen(game_first_msg, img_first_msg)"
   ]
  },
  {
   "cell_type": "code",
   "execution_count": null,
   "id": "general-religious",
   "metadata": {},
   "outputs": [],
   "source": [
    "img_second_msg = cv.imread('msg2.jpeg', cv.IMREAD_UNCHANGED)\n",
    "checkMsgOnScreen(game_second_msg, img_second_msg)"
   ]
  },
  {
   "cell_type": "markdown",
   "id": "military-heather",
   "metadata": {},
   "source": [
    "## 2 - detectar os numeros do captcha"
   ]
  },
  {
   "cell_type": "code",
   "execution_count": null,
   "id": "macro-toddler",
   "metadata": {},
   "outputs": [],
   "source": [
    "def findNumbers(game_image, threshold=0.9):\n",
    "    matches = {}\n",
    "    for i in range(10):\n",
    "        number_img = cv.imread(f'{i}.jpeg', cv.IMREAD_UNCHANGED)\n",
    "        result = cv.matchTemplate(game_image, number_img, cv.TM_CCOEFF_NORMED)\n",
    "        locations = np.where(result >= threshold)\n",
    "        locations = list(zip(*locations[::-1]))\n",
    "        for loc in locations: \n",
    "            matches[loc[0]] = i\n",
    "    result = []\n",
    "    for key in sorted(matches):\n",
    "        result.append(matches[key])\n",
    "    return result"
   ]
  },
  {
   "cell_type": "code",
   "execution_count": null,
   "id": "nonprofit-thursday",
   "metadata": {},
   "outputs": [],
   "source": [
    "game_img = cv.imread('img_37.jpeg', cv.IMREAD_UNCHANGED)[172:185, 237:261]\n",
    "findNumbers(game_img)"
   ]
  },
  {
   "cell_type": "code",
   "execution_count": null,
   "id": "polish-found",
   "metadata": {},
   "outputs": [],
   "source": []
  }
 ],
 "metadata": {
  "kernelspec": {
   "display_name": "Python 3",
   "language": "python",
   "name": "python3"
  },
  "language_info": {
   "codemirror_mode": {
    "name": "ipython",
    "version": 3
   },
   "file_extension": ".py",
   "mimetype": "text/x-python",
   "name": "python",
   "nbconvert_exporter": "python",
   "pygments_lexer": "ipython3",
   "version": "3.9.2"
  }
 },
 "nbformat": 4,
 "nbformat_minor": 5
}
